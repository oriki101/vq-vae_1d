{
 "cells": [
  {
   "cell_type": "code",
   "execution_count": 1,
   "metadata": {},
   "outputs": [],
   "source": [
    "import sys\n",
    "import os\n",
    "sys.path.append(\"..\")"
   ]
  },
  {
   "cell_type": "code",
   "execution_count": 2,
   "metadata": {},
   "outputs": [],
   "source": [
    "from models.vq_vae import VQ_VAE\n",
    "from utils.e4_temperature_datasets import TemperatureDataset\n",
    "from utils.e4_temperature_datasets import TemperatureDatasetValid\n",
    "from utils.e4_temperature_datasets import TemperatureDatasetTest"
   ]
  },
  {
   "cell_type": "code",
   "execution_count": 3,
   "metadata": {},
   "outputs": [],
   "source": [
    "import numpy as np\n",
    "import pandas as pd\n",
    "import seaborn as sns\n",
    "import torch\n",
    "import torchvision\n",
    "import torch.nn as nn\n",
    "import torch.optim as optim\n",
    "import torchvision.transforms as transforms\n",
    "from torch.utils.data import DataLoader, Dataset, Subset\n",
    "from torch.autograd import Variable\n",
    "import torch.nn.functional as F \n",
    "from torchvision.utils import save_image\n",
    "from torch.utils.tensorboard import SummaryWriter\n",
    "%matplotlib inline\n",
    "from matplotlib import pyplot as plt\n",
    "import datetime"
   ]
  },
  {
   "cell_type": "code",
   "execution_count": 4,
   "metadata": {},
   "outputs": [],
   "source": [
    "num_hiddens = 32\n",
    "num_residual_hiddens = 32\n",
    "num_residual_layers = 2\n",
    "\n",
    "# embedding_dim = 1 #RJS最初\n",
    "embedding_dim = 8\n",
    "num_embeddings = 256\n",
    "\n",
    "commitment_cost = 0.25\n",
    "\n",
    "decay = 0.99"
   ]
  },
  {
   "cell_type": "code",
   "execution_count": 5,
   "metadata": {},
   "outputs": [],
   "source": [
    "batch_size = 32\n",
    "num_training_updates = 100\n",
    "num_epochs = 500\n",
    "learning_rate = 1e-3"
   ]
  },
  {
   "cell_type": "markdown",
   "metadata": {},
   "source": [
    "# Load Dataset"
   ]
  },
  {
   "cell_type": "code",
   "execution_count": 6,
   "metadata": {},
   "outputs": [],
   "source": [
    "dataset = TemperatureDataset(transform=transforms.ToTensor())\n",
    "valid_dataset = TemperatureDatasetValid(transform=transforms.ToTensor())\n",
    "test_dataset = TemperatureDatasetTest(transform=transforms.ToTensor())"
   ]
  },
  {
   "cell_type": "code",
   "execution_count": 7,
   "metadata": {},
   "outputs": [],
   "source": [
    "train_loader = DataLoader(dataset, shuffle=True, batch_size=batch_size)\n",
    "valid_loader = DataLoader(valid_dataset, shuffle=False, batch_size=batch_size)\n",
    "test_loader = DataLoader(test_dataset, shuffle=False, batch_size=batch_size)\n",
    "device = 'cuda' if torch.cuda.is_available() else 'cpu'"
   ]
  },
  {
   "cell_type": "markdown",
   "metadata": {},
   "source": [
    "# Train"
   ]
  },
  {
   "cell_type": "code",
   "execution_count": 8,
   "metadata": {},
   "outputs": [],
   "source": [
    "model = VQ_VAE(num_hiddens, num_residual_layers, num_residual_hiddens,\n",
    "              num_embeddings, embedding_dim, \n",
    "              commitment_cost, decay).to(device)"
   ]
  },
  {
   "cell_type": "code",
   "execution_count": null,
   "metadata": {},
   "outputs": [],
   "source": [
    "%%time\n",
    "model.train()\n",
    "train_res_recon_error = []\n",
    "train_res_perplexity = []\n",
    "recon_error_s = 0\n",
    "res_perplexity = 0\n",
    "data_variance = 1\n",
    "good_id = 0\n",
    "\n",
    "\n",
    "optimizer = optim.Adam(model.parameters(), lr=learning_rate, amsgrad=False)\n",
    "\n",
    "f_name = \"temperature_vq_vae-{}-{}dim\".format(num_embeddings, embedding_dim)\n",
    "dt_now = datetime.datetime.now()\n",
    "now = \"{}-{}-{}\".format(dt_now.year, dt_now.month, dt_now.day)\n",
    "name_dir = \"pth/{}\".format(now)\n",
    "name = \"pth/{}/{}.pth\".format(now, f_name)\n",
    "if not os.path.isdir(name_dir):\n",
    "    os.makedirs(name_dir)\n",
    "log_dir = \"logs/{}/{}\".format(now, f_name)\n",
    "if not os.path.isdir(log_dir):\n",
    "    os.makedirs(log_dir)\n",
    "writer = SummaryWriter(log_dir=log_dir)\n",
    "\n",
    "\n",
    "for epoch in range(num_epochs):\n",
    "    model.train()\n",
    "    recon_error_s = 0\n",
    "    res_perplexity = 0\n",
    "    for data in train_loader:\n",
    "        data = data.to(device, dtype=torch.float)\n",
    "        data = data.view(data.size(0), 1, -1)\n",
    "        optimizer.zero_grad()\n",
    "\n",
    "        vq_loss, data_recon, perplexity = model(data)\n",
    "        recon_error = F.mse_loss(data_recon, data) / data_variance        \n",
    "        loss = recon_error + vq_loss\n",
    "        \n",
    "        loss.backward()\n",
    "        optimizer.step()\n",
    "        \n",
    "        recon_error_s += recon_error.item()\n",
    "        res_perplexity += perplexity.item()\n",
    "        \n",
    "#         recon_error_s += recon_error.item()\n",
    "#         res_perplexity += perplexity.item()\n",
    "        \n",
    "#         # マルチGPU用\n",
    "#         loss = loss.mean()\n",
    "#         #loss.mean().backward()\n",
    "#         loss.backward()\n",
    "#         optimizer.step()\n",
    "#         perplexity = perplexity.mean()\n",
    "#         recon_error_s += recon_error.item()\n",
    "#         res_perplexity += perplexity.item()\n",
    "    writer.add_scalar(\"train-loss\", recon_error_s/len(train_loader), epoch)\n",
    "    writer.add_scalar(\"train-perplexity\", res_perplexity/len(train_loader), epoch)\n",
    "    \n",
    "    recon_error_s = 0\n",
    "    res_perplexity = 0\n",
    "    #検証データで評価\n",
    "    model.eval()\n",
    "    with torch.no_grad():\n",
    "        for data in valid_loader:\n",
    "            data = data.to(device, dtype=torch.float)\n",
    "            data = data.view(data.size(0), 1, -1)\n",
    "            vq_loss, data_recon, perplexity = model(data)\n",
    "            recon_error = F.mse_loss(data_recon, data) / data_variance\n",
    "            recon_error_s += recon_error.item()\n",
    "            res_perplexity += perplexity.item()\n",
    "\n",
    "    train_res_recon_error.append(recon_error_s/len(valid_loader))\n",
    "    train_res_perplexity.append(res_perplexity/len(valid_loader))\n",
    "    writer.add_scalar(\"valid-loss\", recon_error_s/len(valid_loader), epoch)\n",
    "    writer.add_scalar(\"valid-perplexity\", res_perplexity/len(valid_loader), epoch)\n",
    "    if recon_error_s/len(train_loader) <= train_res_recon_error[good_id]:\n",
    "        torch.save(model.state_dict(), name)\n",
    "        good_id = epoch\n",
    "\n",
    "    \n",
    "writer.close()"
   ]
  },
  {
   "cell_type": "markdown",
   "metadata": {},
   "source": [
    "# 復元&食べ物データ確認"
   ]
  },
  {
   "cell_type": "code",
   "execution_count": 8,
   "metadata": {},
   "outputs": [],
   "source": [
    "num_embeddings = 128\n",
    "embedding_dim = 16\n",
    "data_pth = 'pth/2021-9-9/temperature_vq_vae-{}-{}dim.pth'.format(num_embeddings, embedding_dim)"
   ]
  },
  {
   "cell_type": "code",
   "execution_count": 9,
   "metadata": {},
   "outputs": [
    {
     "name": "stdout",
     "output_type": "stream",
     "text": [
      "torch.Size([32, 1, 120])\n"
     ]
    },
    {
     "data": {
      "image/png": "[encoded data removed]",
      "text/plain": [
       "<Figure size 432x288 with 10 Axes>"
      ]
     },
     "metadata": {
      "needs_background": "light"
     },
     "output_type": "display_data"
    }
   ],
   "source": [
    "model = VQ_VAE(num_hiddens, num_residual_layers, num_residual_hiddens,\n",
    "              num_embeddings, embedding_dim, \n",
    "              commitment_cost, decay).to(device)\n",
    "model.load_state_dict(torch.load(data_pth))\n",
    "model.eval()\n",
    "\n",
    "with torch.no_grad():\n",
    "    for data in valid_loader:\n",
    "        data = data.view(data.size(0), 1, -1)\n",
    "        data = data.float()\n",
    "        data = data.to(device)\n",
    "        print(data.shape)\n",
    "        vq_loss, data_recon, perplexity = model(data)\n",
    "#         loss = criterion(net.reconstruction(outputs), data)\n",
    "#         valid_loss += loss.item()\n",
    "        break\n",
    "    \n",
    "axs = []\n",
    "fig = plt.figure()\n",
    "for i in range(10):\n",
    "    ax = fig.add_subplot(5, 2, i+1)\n",
    "    axs.append(ax)\n",
    "reco = data_recon\n",
    "reco = reco.reshape(-1, data.size(2))\n",
    "t = [i for i in range(data.size(2))]\n",
    "#t = [i for i in range(15000)]\n",
    "for i in range(5):\n",
    "    y1 = reco[i].to('cpu').detach().numpy().copy()\n",
    "    y2 = data[i].to('cpu').detach().numpy().copy()\n",
    "    y2 = y2.reshape(y2.size)\n",
    "\n",
    "    axs[i*2].plot(t, y1, color='blue', label='reconstruction')\n",
    "    axs[i*2+1].plot(t, y2, color='red', label='original')\n",
    "#     axs[i*2].plot(t, y1, color='blue', label='reconstruction')\n",
    "#     axs[i*2+1].plot(t, y2, color='red', label='original')\n",
    "fig.tight_layout()\n",
    "#plt.savefig('1500.png')\n",
    "plt.show()"
   ]
  },
  {
   "cell_type": "markdown",
   "metadata": {},
   "source": [
    "## 食べ物のデータ処理"
   ]
  },
  {
   "cell_type": "code",
   "execution_count": 10,
   "metadata": {},
   "outputs": [
    {
     "name": "stdout",
     "output_type": "stream",
     "text": [
      "torch.Size([32, 32, 59])\n",
      "torch.Size([32, 4, 59])\n"
     ]
    },
    {
     "data": {
      "text/plain": [
       "(32, 4, 59)"
      ]
     },
     "execution_count": 10,
     "metadata": {},
     "output_type": "execute_result"
    }
   ],
   "source": [
    "model = VQ_VAE(num_hiddens, num_residual_layers, num_residual_hiddens,\n",
    "              num_embeddings, embedding_dim, \n",
    "              commitment_cost, decay).to(device)\n",
    "model.load_state_dict(torch.load(data_pth))\n",
    "batch_size = 64\n",
    "test_loader = DataLoader(test_dataset, shuffle=False, batch_size=batch_size)\n",
    "criterion = nn.MSELoss()\n",
    "\n",
    "valid_loss = 0\n",
    "\n",
    "with torch.no_grad():\n",
    "    for data in test_loader:\n",
    "        data = data.view(data.size(0), 1, -1)\n",
    "        data = data.float()\n",
    "        data = data.to(device)\n",
    "        z = model._encoder(data)\n",
    "        print(z.shape)\n",
    "        z = model._pre_vq_conv(z)\n",
    "        print(z.shape)\n",
    "        loss, quantized, perplexity, _ = model._vq_vae(z)\n",
    "        break\n",
    "\n",
    "out = quantized.to('cpu').detach().numpy().copy()\n",
    "out.shape"
   ]
  },
  {
   "cell_type": "markdown",
   "metadata": {},
   "source": [
    "## token_idを取り出す"
   ]
  },
  {
   "cell_type": "code",
   "execution_count": 11,
   "metadata": {},
   "outputs": [],
   "source": [
    "def get_token_id_from_vqvae(model, data):\n",
    "        bsz = data.shape[0]\n",
    "        z = model._pre_vq_conv( model._encoder(data) ) \n",
    "        loss, quantized, perplexity, vq_vae_encodings = model._vq_vae(z)\n",
    "        #token_ids = vq_vae_encodings.argmax(1).view(bsz,-1)\n",
    "        token_ids = vq_vae_encodings.argmax(2).view(bsz,-1)\n",
    "        return token_ids"
   ]
  },
  {
   "cell_type": "code",
   "execution_count": 12,
   "metadata": {},
   "outputs": [],
   "source": [
    "id = get_token_id_from_vqvae(model, data)\n",
    "id = id.to('cpu').detach().numpy().copy()"
   ]
  },
  {
   "cell_type": "code",
   "execution_count": 24,
   "metadata": {},
   "outputs": [],
   "source": [
    "ls_all = []\n",
    "for i in range(len(id)):\n",
    "    ls = []\n",
    "    for j in range(num_embeddings):\n",
    "        count = 0\n",
    "        for k in range(len(id[0])):\n",
    "            if(id[i][k] == j):\n",
    "                count += 1\n",
    "        ls.append(count)\n",
    "    ls_all.append(ls)"
   ]
  },
  {
   "cell_type": "code",
   "execution_count": 15,
   "metadata": {},
   "outputs": [
    {
     "data": {
      "text/plain": [
       "(32, 59)"
      ]
     },
     "execution_count": 15,
     "metadata": {},
     "output_type": "execute_result"
    }
   ],
   "source": [
    "np.save(\"temperature_VAE_npy/temperature_vq_vae-{}-{}dim\".format(num_embeddings, embedding_dim), ls_all)"
   ]
  },
  {
   "cell_type": "markdown",
   "metadata": {},
   "source": [
    "## 使用されているコーパス数を調べる"
   ]
  },
  {
   "cell_type": "code",
   "execution_count": 26,
   "metadata": {},
   "outputs": [
    {
     "data": {
      "text/plain": [
       "88"
      ]
     },
     "execution_count": 26,
     "metadata": {},
     "output_type": "execute_result"
    }
   ],
   "source": [
    "use_flag = [False] * num_embeddings\n",
    "for i in range(len(id)):\n",
    "    for j in range(len(id[i])):\n",
    "        use_flag[id[i][j]] = True\n",
    "\n",
    "use_flag.count(True)"
   ]
  },
  {
   "cell_type": "markdown",
   "metadata": {},
   "source": [
    "## コサイン類似度"
   ]
  },
  {
   "cell_type": "code",
   "execution_count": 27,
   "metadata": {},
   "outputs": [],
   "source": [
    "def cos_sim(v1, v2):\n",
    "    return np.dot(v1, v2) / (np.linalg.norm(v1) * np.linalg.norm(v2))"
   ]
  },
  {
   "cell_type": "code",
   "execution_count": 28,
   "metadata": {},
   "outputs": [],
   "source": [
    "id = get_token_id_from_vqvae(model, data)\n",
    "id = id.to('cpu').detach().numpy().copy()\n",
    "corpus = model._vq_vae._embedding.weight\n",
    "corpus = corpus.to('cpu').detach().numpy().copy()"
   ]
  },
  {
   "cell_type": "markdown",
   "metadata": {},
   "source": [
    "### 得られたベクトルのコーパスを見て隣接するIDとの類似度を見る"
   ]
  },
  {
   "cell_type": "code",
   "execution_count": 31,
   "metadata": {},
   "outputs": [
    {
     "data": {
      "text/plain": [
       "<Figure size 432x288 with 0 Axes>"
      ]
     },
     "metadata": {},
     "output_type": "display_data"
    }
   ],
   "source": [
    "cos_sequence = []\n",
    "all_cos_sequence = []\n",
    "for i in range(len(id)):\n",
    "    cos_sequence = []\n",
    "    for j in range(len(id[i])-1):\n",
    "        sim = cos_sim(corpus[id[i][j]], corpus[id[i][j+1]])\n",
    "        cos_sequence.append(sim)\n",
    "    all_cos_sequence.append(cos_sequence)\n",
    "\n",
    "\n",
    "food = ['pineapple', 'potato', 'ume', 'chocolate']\n",
    "for i in range(len(food)):\n",
    "    sns.heatmap(all_cos_sequence[i*5:(i+1)*5], cmap= sns.color_palette('coolwarm', 10), vmin = -1, vmax = 1)\n",
    "#     plt.savefig(\"./fig/test_emg_{}_day1\".format(food[i]))\n",
    "    plt.clf()\n",
    "    \n",
    "for i in range(len(food)):\n",
    "    sns.heatmap(all_cos_sequence[20+i*3:20+(i+1)*3], cmap= sns.color_palette('coolwarm', 10), vmin = -1, vmax = 1)\n",
    "#     plt.savefig(\"./fig/test_emg_{}_day1\".format(food[i]))\n",
    "    plt.clf()"
   ]
  },
  {
   "cell_type": "markdown",
   "metadata": {},
   "source": [
    "### 食べ物のベクトルの類似度を見る"
   ]
  },
  {
   "cell_type": "code",
   "execution_count": 39,
   "metadata": {
    "collapsed": true,
    "jupyter": {
     "outputs_hidden": true
    }
   },
   "outputs": [
    {
     "name": "stdout",
     "output_type": "stream",
     "text": [
      "                    pineapple 1d0t  pineapple 1d1t  pineapple 1d2t  \\\n",
      "pineapple 1d0t            1.000000        0.767259        0.588466   \n",
      "pineapple 1d1t            0.767259        1.000000        0.684601   \n",
      "pineapple 1d2t            0.588466        0.684601        1.000000   \n",
      "pineapple 1d3t            0.678127        0.656603        0.594965   \n",
      "pineapple 1d4t            0.643512        0.699488        0.575696   \n",
      "potato 1d0t               0.737633        0.727328        0.673207   \n",
      "potato 1d1t               0.706116        0.750079        0.617379   \n",
      "potato 1d2t               0.767543        0.718799        0.710650   \n",
      "potato 1d3t               0.772277        0.790052        0.750574   \n",
      "potato 1d4t               0.834509        0.738108        0.736979   \n",
      "pickled plums 1d0t        0.722131        0.733611        0.624612   \n",
      "pickled plums 1d1t        0.829165        0.796367        0.740758   \n",
      "pickled plums 1d2t        0.822925        0.788477        0.687474   \n",
      "pickled plums 1d3t        0.810078        0.811529        0.642181   \n",
      "pickled plums 1d4t        0.749268        0.765882        0.682713   \n",
      "chocolate 1d0t            0.765707        0.751332        0.684001   \n",
      "chocolate 1d1t            0.814368        0.741430        0.756469   \n",
      "chocolate 1d2t            0.826142        0.789023        0.670230   \n",
      "chocolate 1d3t            0.848073        0.843756        0.710446   \n",
      "chocolate 1d4t            0.834467        0.846453        0.776827   \n",
      "pineapple 2d0t            0.756546        0.808610        0.723951   \n",
      "pineapple 2d1t            0.791218        0.797810        0.746262   \n",
      "pineapple 2d2t            0.816461        0.798480        0.698085   \n",
      "potato 2d0t               0.774143        0.847675        0.732409   \n",
      "potato 2d1t               0.764251        0.732997        0.618604   \n",
      "potato 2d2t               0.786926        0.792649        0.653672   \n",
      "pickled plums 2d0t        0.756177        0.804741        0.744006   \n",
      "pickled plums 2d1t        0.689578        0.691650        0.716980   \n",
      "pickled plums 2d2t        0.791070        0.684827        0.560783   \n",
      "chocolate 1d0t            0.741702        0.789236        0.701459   \n",
      "chocolate 1d1t            0.696002        0.801217        0.773055   \n",
      "chocolate 1d2t            0.709676        0.719453        0.740110   \n",
      "\n",
      "                    pineapple 1d3t  pineapple 1d4t  potato 1d0t  potato 1d1t  \\\n",
      "pineapple 1d0t            0.678127        0.643512     0.737633     0.706116   \n",
      "pineapple 1d1t            0.656603        0.699488     0.727328     0.750079   \n",
      "pineapple 1d2t            0.594965        0.575696     0.673207     0.617379   \n",
      "pineapple 1d3t            1.000000        0.782811     0.700313     0.662000   \n",
      "pineapple 1d4t            0.782811        1.000000     0.651939     0.754172   \n",
      "potato 1d0t               0.700313        0.651939     1.000000     0.693771   \n",
      "potato 1d1t               0.662000        0.754172     0.693771     1.000000   \n",
      "potato 1d2t               0.686047        0.703294     0.700808     0.772894   \n",
      "potato 1d3t               0.687453        0.787953     0.698933     0.739906   \n",
      "potato 1d4t               0.792870        0.619850     0.758962     0.681402   \n",
      "pickled plums 1d0t        0.820913        0.799278     0.773376     0.781570   \n",
      "pickled plums 1d1t        0.750431        0.804423     0.820581     0.823359   \n",
      "pickled plums 1d2t        0.704621        0.745459     0.854737     0.768367   \n",
      "pickled plums 1d3t        0.762098        0.759789     0.684954     0.787159   \n",
      "pickled plums 1d4t        0.743071        0.699486     0.721891     0.697719   \n",
      "chocolate 1d0t            0.827402        0.675518     0.787285     0.657722   \n",
      "chocolate 1d1t            0.743484        0.792728     0.837424     0.770184   \n",
      "chocolate 1d2t            0.814476        0.831416     0.780668     0.840533   \n",
      "chocolate 1d3t            0.773676        0.814215     0.782765     0.791348   \n",
      "chocolate 1d4t            0.789472        0.728021     0.789711     0.754901   \n",
      "pineapple 2d0t            0.855912        0.801776     0.775116     0.791735   \n",
      "pineapple 2d1t            0.869316        0.820857     0.747424     0.758498   \n",
      "pineapple 2d2t            0.829682        0.786329     0.876088     0.743600   \n",
      "potato 2d0t               0.789462        0.866978     0.781723     0.848413   \n",
      "potato 2d1t               0.714638        0.728071     0.729072     0.720987   \n",
      "potato 2d2t               0.645497        0.683474     0.820187     0.743968   \n",
      "pickled plums 2d0t        0.727644        0.667569     0.682993     0.752752   \n",
      "pickled plums 2d1t        0.808342        0.762104     0.770893     0.737533   \n",
      "pickled plums 2d2t        0.770602        0.776788     0.646884     0.632173   \n",
      "chocolate 1d0t            0.730547        0.729197     0.802376     0.711592   \n",
      "chocolate 1d1t            0.726006        0.735483     0.684869     0.791763   \n",
      "chocolate 1d2t            0.736455        0.712009     0.778644     0.764214   \n",
      "\n",
      "                    potato 1d2t  potato 1d3t  potato 1d4t  ...  \\\n",
      "pineapple 1d0t         0.767543     0.772277     0.834509  ...   \n",
      "pineapple 1d1t         0.718799     0.790052     0.738108  ...   \n",
      "pineapple 1d2t         0.710650     0.750574     0.736979  ...   \n",
      "pineapple 1d3t         0.686047     0.687453     0.792870  ...   \n",
      "pineapple 1d4t         0.703294     0.787953     0.619850  ...   \n",
      "potato 1d0t            0.700808     0.698933     0.758962  ...   \n",
      "potato 1d1t            0.772894     0.739906     0.681402  ...   \n",
      "potato 1d2t            1.000000     0.814989     0.770339  ...   \n",
      "potato 1d3t            0.814989     1.000000     0.746543  ...   \n",
      "potato 1d4t            0.770339     0.746543     1.000000  ...   \n",
      "pickled plums 1d0t     0.734617     0.790956     0.733062  ...   \n",
      "pickled plums 1d1t     0.832266     0.839185     0.787225  ...   \n",
      "pickled plums 1d2t     0.802675     0.829011     0.838969  ...   \n",
      "pickled plums 1d3t     0.850926     0.812295     0.794780  ...   \n",
      "pickled plums 1d4t     0.783896     0.802402     0.798495  ...   \n",
      "chocolate 1d0t         0.708185     0.708048     0.813778  ...   \n",
      "chocolate 1d1t         0.834857     0.881600     0.796680  ...   \n",
      "chocolate 1d2t         0.848524     0.829578     0.825354  ...   \n",
      "chocolate 1d3t         0.857040     0.894784     0.837731  ...   \n",
      "chocolate 1d4t         0.802906     0.828917     0.886468  ...   \n",
      "pineapple 2d0t         0.786781     0.841714     0.850065  ...   \n",
      "pineapple 2d1t         0.832857     0.865962     0.854784  ...   \n",
      "pineapple 2d2t         0.775037     0.789342     0.870742  ...   \n",
      "potato 2d0t            0.798189     0.851913     0.762609  ...   \n",
      "potato 2d1t            0.783314     0.778694     0.748975  ...   \n",
      "potato 2d2t            0.742172     0.817681     0.782479  ...   \n",
      "pickled plums 2d0t     0.773304     0.738185     0.773615  ...   \n",
      "pickled plums 2d1t     0.738412     0.794016     0.797482  ...   \n",
      "pickled plums 2d2t     0.758738     0.790471     0.723632  ...   \n",
      "chocolate 1d0t         0.684666     0.766470     0.795850  ...   \n",
      "chocolate 1d1t         0.750692     0.780341     0.769559  ...   \n",
      "chocolate 1d2t         0.846061     0.779510     0.768391  ...   \n",
      "\n",
      "                    pineapple 2d2t  potato 2d0t  potato 2d1t  potato 2d2t  \\\n",
      "pineapple 1d0t            0.816461     0.774143     0.764251     0.786926   \n",
      "pineapple 1d1t            0.798480     0.847675     0.732997     0.792649   \n",
      "pineapple 1d2t            0.698085     0.732409     0.618604     0.653672   \n",
      "pineapple 1d3t            0.829682     0.789462     0.714638     0.645497   \n",
      "pineapple 1d4t            0.786329     0.866978     0.728071     0.683474   \n",
      "potato 1d0t               0.876088     0.781723     0.729072     0.820187   \n",
      "potato 1d1t               0.743600     0.848413     0.720987     0.743968   \n",
      "potato 1d2t               0.775037     0.798189     0.783314     0.742172   \n",
      "potato 1d3t               0.789342     0.851913     0.778694     0.817681   \n",
      "potato 1d4t               0.870742     0.762609     0.748975     0.782479   \n",
      "pickled plums 1d0t        0.852910     0.862972     0.765636     0.754618   \n",
      "pickled plums 1d1t        0.848814     0.895469     0.786810     0.773110   \n",
      "pickled plums 1d2t        0.909084     0.823032     0.741188     0.915704   \n",
      "pickled plums 1d3t        0.801872     0.860040     0.773885     0.771642   \n",
      "pickled plums 1d4t        0.829906     0.797106     0.715457     0.809347   \n",
      "chocolate 1d0t            0.803816     0.806708     0.753603     0.666120   \n",
      "chocolate 1d1t            0.862027     0.857524     0.773431     0.865378   \n",
      "chocolate 1d2t            0.851993     0.914405     0.828735     0.772329   \n",
      "chocolate 1d3t            0.889213     0.875978     0.784143     0.873720   \n",
      "chocolate 1d4t            0.858606     0.871746     0.808898     0.806587   \n",
      "pineapple 2d0t            0.903641     0.881483     0.781640     0.826505   \n",
      "pineapple 2d1t            0.857931     0.879069     0.829854     0.762072   \n",
      "pineapple 2d2t            1.000000     0.859740     0.802994     0.861545   \n",
      "potato 2d0t               0.859740     1.000000     0.819228     0.794025   \n",
      "potato 2d1t               0.802994     0.819228     1.000000     0.665598   \n",
      "potato 2d2t               0.861545     0.794025     0.665598     1.000000   \n",
      "pickled plums 2d0t        0.727965     0.846394     0.744947     0.654536   \n",
      "pickled plums 2d1t        0.866599     0.801725     0.658253     0.831407   \n",
      "pickled plums 2d2t        0.757522     0.780315     0.786894     0.643337   \n",
      "chocolate 1d0t            0.896306     0.822639     0.721880     0.833277   \n",
      "chocolate 1d1t            0.717320     0.858044     0.777426     0.654780   \n",
      "chocolate 1d2t            0.843669     0.792865     0.716635     0.787996   \n",
      "\n",
      "                    pickled plums 2d0t  pickled plums 2d1t  \\\n",
      "pineapple 1d0t                0.756177            0.689578   \n",
      "pineapple 1d1t                0.804741            0.691650   \n",
      "pineapple 1d2t                0.744006            0.716980   \n",
      "pineapple 1d3t                0.727644            0.808342   \n",
      "pineapple 1d4t                0.667569            0.762104   \n",
      "potato 1d0t                   0.682993            0.770893   \n",
      "potato 1d1t                   0.752752            0.737533   \n",
      "potato 1d2t                   0.773304            0.738412   \n",
      "potato 1d3t                   0.738185            0.794016   \n",
      "potato 1d4t                   0.773615            0.797482   \n",
      "pickled plums 1d0t            0.689957            0.826415   \n",
      "pickled plums 1d1t            0.801277            0.786848   \n",
      "pickled plums 1d2t            0.668426            0.856629   \n",
      "pickled plums 1d3t            0.864671            0.768399   \n",
      "pickled plums 1d4t            0.728685            0.815615   \n",
      "chocolate 1d0t                0.760649            0.728323   \n",
      "chocolate 1d1t                0.711487            0.850008   \n",
      "chocolate 1d2t                0.858136            0.803749   \n",
      "chocolate 1d3t                0.738553            0.860198   \n",
      "chocolate 1d4t                0.883054            0.769691   \n",
      "pineapple 2d0t                0.778463            0.918636   \n",
      "pineapple 2d1t                0.858482            0.810399   \n",
      "pineapple 2d2t                0.727965            0.866599   \n",
      "potato 2d0t                   0.846394            0.801725   \n",
      "potato 2d1t                   0.744947            0.658253   \n",
      "potato 2d2t                   0.654536            0.831407   \n",
      "pickled plums 2d0t            1.000000            0.664674   \n",
      "pickled plums 2d1t            0.664674            1.000000   \n",
      "pickled plums 2d2t            0.738959            0.651847   \n",
      "chocolate 1d0t                0.620695            0.821754   \n",
      "chocolate 1d1t                0.865077            0.664490   \n",
      "chocolate 1d2t                0.697557            0.844215   \n",
      "\n",
      "                    pickled plums 2d2t  chocolate 1d0t  chocolate 1d1t  \\\n",
      "pineapple 1d0t                0.791070        0.741702        0.696002   \n",
      "pineapple 1d1t                0.684827        0.789236        0.801217   \n",
      "pineapple 1d2t                0.560783        0.701459        0.773055   \n",
      "pineapple 1d3t                0.770602        0.730547        0.726006   \n",
      "pineapple 1d4t                0.776788        0.729197        0.735483   \n",
      "potato 1d0t                   0.646884        0.802376        0.684869   \n",
      "potato 1d1t                   0.632173        0.711592        0.791763   \n",
      "potato 1d2t                   0.758738        0.684666        0.750692   \n",
      "potato 1d3t                   0.790471        0.766470        0.780341   \n",
      "potato 1d4t                   0.723632        0.795850        0.769559   \n",
      "pickled plums 1d0t            0.720687        0.818416        0.722376   \n",
      "pickled plums 1d1t            0.799868        0.787431        0.844141   \n",
      "pickled plums 1d2t            0.733381        0.879242        0.695285   \n",
      "pickled plums 1d3t            0.803241        0.705076        0.782227   \n",
      "pickled plums 1d4t            0.749521        0.779113        0.710526   \n",
      "chocolate 1d0t                0.776288        0.742340        0.774050   \n",
      "chocolate 1d1t                0.763512        0.823496        0.744479   \n",
      "chocolate 1d2t                0.844434        0.753055        0.842045   \n",
      "chocolate 1d3t                0.815797        0.842409        0.764156   \n",
      "chocolate 1d4t                0.823649        0.775787        0.858358   \n",
      "pineapple 2d0t                0.723024        0.857580        0.759172   \n",
      "pineapple 2d1t                0.859493        0.757359        0.863075   \n",
      "pineapple 2d2t                0.757522        0.896306        0.717320   \n",
      "potato 2d0t                   0.780315        0.822639        0.858044   \n",
      "potato 2d1t                   0.786894        0.721880        0.777426   \n",
      "potato 2d2t                   0.643337        0.833277        0.654780   \n",
      "pickled plums 2d0t            0.738959        0.620695        0.865077   \n",
      "pickled plums 2d1t            0.651847        0.821754        0.664490   \n",
      "pickled plums 2d2t            1.000000        0.611055        0.720336   \n",
      "chocolate 1d0t                0.611055        1.000000        0.694542   \n",
      "chocolate 1d1t                0.720336        0.694542        1.000000   \n",
      "chocolate 1d2t                0.690022        0.778993        0.712217   \n",
      "\n",
      "                    chocolate 1d2t  \n",
      "pineapple 1d0t            0.709676  \n",
      "pineapple 1d1t            0.719453  \n",
      "pineapple 1d2t            0.740110  \n",
      "pineapple 1d3t            0.736455  \n",
      "pineapple 1d4t            0.712009  \n",
      "potato 1d0t               0.778644  \n",
      "potato 1d1t               0.764214  \n",
      "potato 1d2t               0.846061  \n",
      "potato 1d3t               0.779510  \n",
      "potato 1d4t               0.768391  \n",
      "pickled plums 1d0t        0.821283  \n",
      "pickled plums 1d1t        0.854243  \n",
      "pickled plums 1d2t        0.823102  \n",
      "pickled plums 1d3t        0.759373  \n",
      "pickled plums 1d4t        0.843405  \n",
      "chocolate 1d0t            0.685723  \n",
      "chocolate 1d1t            0.828497  \n",
      "chocolate 1d2t            0.821331  \n",
      "chocolate 1d3t            0.852210  \n",
      "chocolate 1d4t            0.747700  \n",
      "pineapple 2d0t            0.845961  \n",
      "pineapple 2d1t            0.817134  \n",
      "pineapple 2d2t            0.843669  \n",
      "potato 2d0t               0.792865  \n",
      "potato 2d1t               0.716635  \n",
      "potato 2d2t               0.787996  \n",
      "pickled plums 2d0t        0.697557  \n",
      "pickled plums 2d1t        0.844215  \n",
      "pickled plums 2d2t        0.690022  \n",
      "chocolate 1d0t            0.778993  \n",
      "chocolate 1d1t            0.712217  \n",
      "chocolate 1d2t            1.000000  \n",
      "\n",
      "[32 rows x 32 columns]\n"
     ]
    }
   ],
   "source": [
    "pine1 = ['pineapple 1d{}t'.format(i) for i in range(5)]\n",
    "pine2 = ['pineapple 2d{}t'.format(i) for i in range(3)]\n",
    "potato1 = ['potato 1d{}t'.format(i) for i in range(5)]\n",
    "potato2= ['potato 2d{}t'.format(i) for i in range(3)]\n",
    "ume1=['pickled plums 1d{}t'.format(i) for i in range(5)]\n",
    "ume2=['pickled plums 2d{}t'.format(i) for i in range(3)]\n",
    "chocolate1 = ['chocolate 1d{}t'.format(i) for i in range(5)]\n",
    "chocolate2 = ['chocolate 1d{}t'.format(i) for i in range(3)]\n",
    "\n",
    "index = []\n",
    "index.extend(pine1)\n",
    "index.extend(potato1)\n",
    "index.extend(ume1)\n",
    "index.extend(chocolate1)\n",
    "index.extend(pine2)\n",
    "index.extend(potato2)\n",
    "index.extend(ume2)\n",
    "index.extend(chocolate2)\n",
    "\n",
    "columns = index\n",
    "\n",
    "all_cos_sequence = []\n",
    "for i in range(len(index)):\n",
    "    cos_sequence = []\n",
    "    for j in range(len(index)):\n",
    "        cos_sequence.append(cos_sim(id[i], id[j]))\n",
    "    all_cos_sequence.append(cos_sequence)\n",
    "all_cos_sequence = np.array(all_cos_sequence)\n",
    "df = pd.DataFrame(data=all_cos_sequence, index=index, columns=columns, dtype='float')\n",
    "# print(df)\n",
    "# df.to_excel('temperature_cos_sim.xlsx')"
   ]
  },
  {
   "cell_type": "code",
   "execution_count": 40,
   "metadata": {},
   "outputs": [
    {
     "data": {
      "text/plain": [
       "[]"
      ]
     },
     "execution_count": 40,
     "metadata": {},
     "output_type": "execute_result"
    },
    {
     "data": {
      "image/png": "[encoded data removed]",
      "text/plain": [
       "<Figure size 432x288 with 2 Axes>"
      ]
     },
     "metadata": {
      "needs_background": "light"
     },
     "output_type": "display_data"
    }
   ],
   "source": [
    "sns.heatmap(all_cos_sequence, cmap= sns.color_palette('coolwarm', 10), vmin = -1, vmax = 1)\n",
    "plt.plot()"
   ]
  },
  {
   "cell_type": "markdown",
   "metadata": {},
   "source": [
    "# Decoderへの入力のUMAP解析"
   ]
  },
  {
   "cell_type": "code",
   "execution_count": null,
   "metadata": {},
   "outputs": [],
   "source": [
    "!conda install -y -c conda-forge umap-learn"
   ]
  },
  {
   "cell_type": "code",
   "execution_count": null,
   "metadata": {},
   "outputs": [],
   "source": [
    "import sklearn\n",
    "from sklearn import preprocessing\n",
    "import pylab\n",
    "import matplotlib.pyplot as plt\n",
    "%matplotlib inline\n",
    "from mpl_toolkits.mplot3d import Axes3D\n",
    "import umap"
   ]
  },
  {
   "cell_type": "code",
   "execution_count": null,
   "metadata": {},
   "outputs": [],
   "source": [
    "def render(ax1, feature, name=None):\n",
    "    #day1\n",
    "    ax.scatter(feature[:5,0],feature[:5,1], c='red', marker='x', label='pineapple day1', s=100)\n",
    "    ax.scatter(feature[5:10,0],feature[5:10,1], c='red',marker='o', label='potato chips day1', s=100)\n",
    "    ax.scatter(feature[10:15,0],feature[10:15,1],  c='blue',marker='^', label='salted plum day1', s=100)\n",
    "    ax.scatter(feature[15:20,0],feature[15:20,1], c='blue',marker='s', label='chocolate day1', s=100)\n",
    "\n",
    "    # day2\n",
    "    ax.scatter(feature[20:23,0],feature[20:23,1], c='darkred', marker='x', label='pineapple day2', s=100)\n",
    "    ax.scatter(feature[23:26,0],feature[23:26,1], c='darkred',marker='o', label='potato chips day2', s=100)\n",
    "    ax.scatter(feature[26:29,0],feature[26:29,1],  c='darkblue',marker='^', label='salted plum day2', s=100)\n",
    "    ax.scatter(feature[29:,0],feature[29:,1], c='darkblue',marker='s', label='chocolate day2', s=100)\n",
    "    \n",
    "#     ax.legend(loc='upper right')\n",
    "    ax.grid(True)\n",
    "    if name != None:\n",
    "        fig.savefig(name, bbox_inch='tight')\n",
    "    fig.show()"
   ]
  },
  {
   "cell_type": "code",
   "execution_count": null,
   "metadata": {},
   "outputs": [],
   "source": [
    "out = out.reshape(len(out), -1)\n",
    "\n",
    "#中間層の標準化\n",
    "ss = preprocessing.StandardScaler()\n",
    "print(out.shape)\n",
    "encode = ss.fit_transform(out)\n",
    "\n",
    "#umap\n",
    "umap_model = umap.UMAP(n_components=2, random_state=0)\n",
    "feature = umap_model.fit_transform(encode)\n",
    "\n",
    "fig = plt.figure()\n",
    "ax = fig.add_subplot(1,1,1)\n",
    "# render(ax, feature)\n",
    "render(ax, feature)"
   ]
  }
 ],
 "metadata": {
  "kernelspec": {
   "display_name": "Python 3",
   "language": "python",
   "name": "python3"
  },
  "language_info": {
   "codemirror_mode": {
    "name": "ipython",
    "version": 3
   },
   "file_extension": ".py",
   "mimetype": "text/x-python",
   "name": "python",
   "nbconvert_exporter": "python",
   "pygments_lexer": "ipython3",
   "version": "3.8.3"
  }
 },
 "nbformat": 4,
 "nbformat_minor": 4
}
